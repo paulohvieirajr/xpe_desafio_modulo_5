{
 "cells": [
  {
   "cell_type": "markdown",
   "id": "b38e9330-7a2c-40a2-85f2-f680eb49c049",
   "metadata": {},
   "source": [
    "### Importando as bibliotecas"
   ]
  },
  {
   "cell_type": "code",
   "execution_count": 1,
   "id": "ae0f0600-e8d7-4a77-af13-34de716bd0d7",
   "metadata": {},
   "outputs": [],
   "source": [
    "# Importando bibliotecas\n",
    "import pandas as pd\n",
    "import matplotlib.pyplot as plt\n",
    "import seaborn as sns\n",
    "\n",
    "# blibliotecas para balanceamento dos dados\n",
    "from imblearn.under_sampling import RandomUnderSampler, TomekLinks\n",
    "\n",
    "# biblioteca para separação dos dados de treinamento e teste\n",
    "from sklearn.model_selection import train_test_split\n",
    "\n",
    "# biblioteca de accuracy\n",
    "from sklearn.metrics import accuracy_score\n",
    "\n",
    "# biblioteca para criação do modelo de RandomForest\n",
    "from sklearn.ensemble import RandomForestClassifier\n",
    "\n",
    "# bibliotecas de matriz de confusão\n",
    "from sklearn.metrics import confusion_matrix, classification_report"
   ]
  },
  {
   "cell_type": "markdown",
   "id": "c1543c07-897f-4401-a7a1-a6e4b7d879ee",
   "metadata": {},
   "source": [
    "### Coletando os dados"
   ]
  },
  {
   "cell_type": "code",
   "execution_count": 2,
   "id": "7d2325be-f2b0-44b1-bfa9-872fa01614d8",
   "metadata": {},
   "outputs": [],
   "source": [
    "df = pd.read_csv('./dataset/HR_comma_sep.csv', sep=',')"
   ]
  },
  {
   "cell_type": "markdown",
   "id": "c7b7ea2d-6bdf-4562-8d3a-525f390b04e0",
   "metadata": {},
   "source": [
    "### Análise descritiva - Verificando dados do dataset"
   ]
  },
  {
   "cell_type": "code",
   "execution_count": 3,
   "id": "54f71da6-d0a4-48f0-b14d-1d220a2f851f",
   "metadata": {},
   "outputs": [
    {
     "data": {
      "text/plain": [
       "(14999, 10)"
      ]
     },
     "execution_count": 3,
     "metadata": {},
     "output_type": "execute_result"
    }
   ],
   "source": [
    "# Exibindo quantidade de linhas e colunas.\n",
    "df.shape"
   ]
  },
  {
   "cell_type": "code",
   "execution_count": 4,
   "id": "12533fd3-a8f6-4d64-9a36-a7d375631a6f",
   "metadata": {},
   "outputs": [
    {
     "name": "stdout",
     "output_type": "stream",
     "text": [
      "<class 'pandas.core.frame.DataFrame'>\n",
      "RangeIndex: 14999 entries, 0 to 14998\n",
      "Data columns (total 10 columns):\n",
      " #   Column                 Non-Null Count  Dtype  \n",
      "---  ------                 --------------  -----  \n",
      " 0   satisfaction_level     14999 non-null  float64\n",
      " 1   last_evaluation        14999 non-null  float64\n",
      " 2   number_project         14999 non-null  int64  \n",
      " 3   average_montly_hours   14999 non-null  int64  \n",
      " 4   time_spend_company     14999 non-null  int64  \n",
      " 5   Work_accident          14999 non-null  int64  \n",
      " 6   left                   14999 non-null  int64  \n",
      " 7   promotion_last_5years  14999 non-null  int64  \n",
      " 8   department             14999 non-null  object \n",
      " 9   salary                 14999 non-null  object \n",
      "dtypes: float64(2), int64(6), object(2)\n",
      "memory usage: 1.1+ MB\n"
     ]
    }
   ],
   "source": [
    "# Exibindo informações da base de dados\n",
    "df.info()"
   ]
  },
  {
   "cell_type": "code",
   "execution_count": 5,
   "id": "191b18a3-bdd9-4441-8d94-2d1bbec77bc4",
   "metadata": {},
   "outputs": [
    {
     "data": {
      "text/html": [
       "<div>\n",
       "<style scoped>\n",
       "    .dataframe tbody tr th:only-of-type {\n",
       "        vertical-align: middle;\n",
       "    }\n",
       "\n",
       "    .dataframe tbody tr th {\n",
       "        vertical-align: top;\n",
       "    }\n",
       "\n",
       "    .dataframe thead th {\n",
       "        text-align: right;\n",
       "    }\n",
       "</style>\n",
       "<table border=\"1\" class=\"dataframe\">\n",
       "  <thead>\n",
       "    <tr style=\"text-align: right;\">\n",
       "      <th></th>\n",
       "      <th>satisfaction_level</th>\n",
       "      <th>last_evaluation</th>\n",
       "      <th>number_project</th>\n",
       "      <th>average_montly_hours</th>\n",
       "      <th>time_spend_company</th>\n",
       "      <th>Work_accident</th>\n",
       "      <th>left</th>\n",
       "      <th>promotion_last_5years</th>\n",
       "      <th>department</th>\n",
       "      <th>salary</th>\n",
       "    </tr>\n",
       "  </thead>\n",
       "  <tbody>\n",
       "    <tr>\n",
       "      <th>0</th>\n",
       "      <td>0.38</td>\n",
       "      <td>0.53</td>\n",
       "      <td>2</td>\n",
       "      <td>157</td>\n",
       "      <td>3</td>\n",
       "      <td>0</td>\n",
       "      <td>1</td>\n",
       "      <td>0</td>\n",
       "      <td>sales</td>\n",
       "      <td>low</td>\n",
       "    </tr>\n",
       "    <tr>\n",
       "      <th>1</th>\n",
       "      <td>0.80</td>\n",
       "      <td>0.86</td>\n",
       "      <td>5</td>\n",
       "      <td>262</td>\n",
       "      <td>6</td>\n",
       "      <td>0</td>\n",
       "      <td>1</td>\n",
       "      <td>0</td>\n",
       "      <td>sales</td>\n",
       "      <td>medium</td>\n",
       "    </tr>\n",
       "    <tr>\n",
       "      <th>2</th>\n",
       "      <td>0.11</td>\n",
       "      <td>0.88</td>\n",
       "      <td>7</td>\n",
       "      <td>272</td>\n",
       "      <td>4</td>\n",
       "      <td>0</td>\n",
       "      <td>1</td>\n",
       "      <td>0</td>\n",
       "      <td>sales</td>\n",
       "      <td>medium</td>\n",
       "    </tr>\n",
       "    <tr>\n",
       "      <th>3</th>\n",
       "      <td>0.72</td>\n",
       "      <td>0.87</td>\n",
       "      <td>5</td>\n",
       "      <td>223</td>\n",
       "      <td>5</td>\n",
       "      <td>0</td>\n",
       "      <td>1</td>\n",
       "      <td>0</td>\n",
       "      <td>sales</td>\n",
       "      <td>low</td>\n",
       "    </tr>\n",
       "    <tr>\n",
       "      <th>4</th>\n",
       "      <td>0.37</td>\n",
       "      <td>0.52</td>\n",
       "      <td>2</td>\n",
       "      <td>159</td>\n",
       "      <td>3</td>\n",
       "      <td>0</td>\n",
       "      <td>1</td>\n",
       "      <td>0</td>\n",
       "      <td>sales</td>\n",
       "      <td>low</td>\n",
       "    </tr>\n",
       "  </tbody>\n",
       "</table>\n",
       "</div>"
      ],
      "text/plain": [
       "   satisfaction_level  last_evaluation  number_project  average_montly_hours  \\\n",
       "0                0.38             0.53               2                   157   \n",
       "1                0.80             0.86               5                   262   \n",
       "2                0.11             0.88               7                   272   \n",
       "3                0.72             0.87               5                   223   \n",
       "4                0.37             0.52               2                   159   \n",
       "\n",
       "   time_spend_company  Work_accident  left  promotion_last_5years department  \\\n",
       "0                   3              0     1                      0      sales   \n",
       "1                   6              0     1                      0      sales   \n",
       "2                   4              0     1                      0      sales   \n",
       "3                   5              0     1                      0      sales   \n",
       "4                   3              0     1                      0      sales   \n",
       "\n",
       "   salary  \n",
       "0     low  \n",
       "1  medium  \n",
       "2  medium  \n",
       "3     low  \n",
       "4     low  "
      ]
     },
     "execution_count": 5,
     "metadata": {},
     "output_type": "execute_result"
    }
   ],
   "source": [
    "# Visualizando as primeiras linhas do dataset\n",
    "df.head()"
   ]
  },
  {
   "cell_type": "code",
   "execution_count": 6,
   "id": "33004d7f-7db2-4508-b393-ab69f343c51e",
   "metadata": {},
   "outputs": [
    {
     "data": {
      "text/html": [
       "<div>\n",
       "<style scoped>\n",
       "    .dataframe tbody tr th:only-of-type {\n",
       "        vertical-align: middle;\n",
       "    }\n",
       "\n",
       "    .dataframe tbody tr th {\n",
       "        vertical-align: top;\n",
       "    }\n",
       "\n",
       "    .dataframe thead th {\n",
       "        text-align: right;\n",
       "    }\n",
       "</style>\n",
       "<table border=\"1\" class=\"dataframe\">\n",
       "  <thead>\n",
       "    <tr style=\"text-align: right;\">\n",
       "      <th></th>\n",
       "      <th>satisfaction_level</th>\n",
       "      <th>last_evaluation</th>\n",
       "      <th>number_project</th>\n",
       "      <th>average_montly_hours</th>\n",
       "      <th>time_spend_company</th>\n",
       "      <th>Work_accident</th>\n",
       "      <th>left</th>\n",
       "      <th>promotion_last_5years</th>\n",
       "      <th>department</th>\n",
       "      <th>salary</th>\n",
       "    </tr>\n",
       "  </thead>\n",
       "  <tbody>\n",
       "    <tr>\n",
       "      <th>14994</th>\n",
       "      <td>0.40</td>\n",
       "      <td>0.57</td>\n",
       "      <td>2</td>\n",
       "      <td>151</td>\n",
       "      <td>3</td>\n",
       "      <td>0</td>\n",
       "      <td>1</td>\n",
       "      <td>0</td>\n",
       "      <td>support</td>\n",
       "      <td>low</td>\n",
       "    </tr>\n",
       "    <tr>\n",
       "      <th>14995</th>\n",
       "      <td>0.37</td>\n",
       "      <td>0.48</td>\n",
       "      <td>2</td>\n",
       "      <td>160</td>\n",
       "      <td>3</td>\n",
       "      <td>0</td>\n",
       "      <td>1</td>\n",
       "      <td>0</td>\n",
       "      <td>support</td>\n",
       "      <td>low</td>\n",
       "    </tr>\n",
       "    <tr>\n",
       "      <th>14996</th>\n",
       "      <td>0.37</td>\n",
       "      <td>0.53</td>\n",
       "      <td>2</td>\n",
       "      <td>143</td>\n",
       "      <td>3</td>\n",
       "      <td>0</td>\n",
       "      <td>1</td>\n",
       "      <td>0</td>\n",
       "      <td>support</td>\n",
       "      <td>low</td>\n",
       "    </tr>\n",
       "    <tr>\n",
       "      <th>14997</th>\n",
       "      <td>0.11</td>\n",
       "      <td>0.96</td>\n",
       "      <td>6</td>\n",
       "      <td>280</td>\n",
       "      <td>4</td>\n",
       "      <td>0</td>\n",
       "      <td>1</td>\n",
       "      <td>0</td>\n",
       "      <td>support</td>\n",
       "      <td>low</td>\n",
       "    </tr>\n",
       "    <tr>\n",
       "      <th>14998</th>\n",
       "      <td>0.37</td>\n",
       "      <td>0.52</td>\n",
       "      <td>2</td>\n",
       "      <td>158</td>\n",
       "      <td>3</td>\n",
       "      <td>0</td>\n",
       "      <td>1</td>\n",
       "      <td>0</td>\n",
       "      <td>support</td>\n",
       "      <td>low</td>\n",
       "    </tr>\n",
       "  </tbody>\n",
       "</table>\n",
       "</div>"
      ],
      "text/plain": [
       "       satisfaction_level  last_evaluation  number_project  \\\n",
       "14994                0.40             0.57               2   \n",
       "14995                0.37             0.48               2   \n",
       "14996                0.37             0.53               2   \n",
       "14997                0.11             0.96               6   \n",
       "14998                0.37             0.52               2   \n",
       "\n",
       "       average_montly_hours  time_spend_company  Work_accident  left  \\\n",
       "14994                   151                   3              0     1   \n",
       "14995                   160                   3              0     1   \n",
       "14996                   143                   3              0     1   \n",
       "14997                   280                   4              0     1   \n",
       "14998                   158                   3              0     1   \n",
       "\n",
       "       promotion_last_5years department salary  \n",
       "14994                      0    support    low  \n",
       "14995                      0    support    low  \n",
       "14996                      0    support    low  \n",
       "14997                      0    support    low  \n",
       "14998                      0    support    low  "
      ]
     },
     "execution_count": 6,
     "metadata": {},
     "output_type": "execute_result"
    }
   ],
   "source": [
    "# Visualozando as ultimas linhas do dataset\n",
    "df.tail()"
   ]
  },
  {
   "cell_type": "code",
   "execution_count": 7,
   "id": "3935d8b7-8f17-4857-9617-b0aca1bfc477",
   "metadata": {},
   "outputs": [
    {
     "data": {
      "text/html": [
       "<div>\n",
       "<style scoped>\n",
       "    .dataframe tbody tr th:only-of-type {\n",
       "        vertical-align: middle;\n",
       "    }\n",
       "\n",
       "    .dataframe tbody tr th {\n",
       "        vertical-align: top;\n",
       "    }\n",
       "\n",
       "    .dataframe thead th {\n",
       "        text-align: right;\n",
       "    }\n",
       "</style>\n",
       "<table border=\"1\" class=\"dataframe\">\n",
       "  <thead>\n",
       "    <tr style=\"text-align: right;\">\n",
       "      <th></th>\n",
       "      <th>satisfaction_level</th>\n",
       "      <th>last_evaluation</th>\n",
       "      <th>number_project</th>\n",
       "      <th>average_montly_hours</th>\n",
       "      <th>time_spend_company</th>\n",
       "      <th>Work_accident</th>\n",
       "      <th>left</th>\n",
       "      <th>promotion_last_5years</th>\n",
       "    </tr>\n",
       "  </thead>\n",
       "  <tbody>\n",
       "    <tr>\n",
       "      <th>count</th>\n",
       "      <td>14999.000000</td>\n",
       "      <td>14999.000000</td>\n",
       "      <td>14999.000000</td>\n",
       "      <td>14999.000000</td>\n",
       "      <td>14999.000000</td>\n",
       "      <td>14999.000000</td>\n",
       "      <td>14999.000000</td>\n",
       "      <td>14999.000000</td>\n",
       "    </tr>\n",
       "    <tr>\n",
       "      <th>mean</th>\n",
       "      <td>0.612834</td>\n",
       "      <td>0.716102</td>\n",
       "      <td>3.803054</td>\n",
       "      <td>201.050337</td>\n",
       "      <td>3.498233</td>\n",
       "      <td>0.144610</td>\n",
       "      <td>0.238083</td>\n",
       "      <td>0.021268</td>\n",
       "    </tr>\n",
       "    <tr>\n",
       "      <th>std</th>\n",
       "      <td>0.248631</td>\n",
       "      <td>0.171169</td>\n",
       "      <td>1.232592</td>\n",
       "      <td>49.943099</td>\n",
       "      <td>1.460136</td>\n",
       "      <td>0.351719</td>\n",
       "      <td>0.425924</td>\n",
       "      <td>0.144281</td>\n",
       "    </tr>\n",
       "    <tr>\n",
       "      <th>min</th>\n",
       "      <td>0.090000</td>\n",
       "      <td>0.360000</td>\n",
       "      <td>2.000000</td>\n",
       "      <td>96.000000</td>\n",
       "      <td>2.000000</td>\n",
       "      <td>0.000000</td>\n",
       "      <td>0.000000</td>\n",
       "      <td>0.000000</td>\n",
       "    </tr>\n",
       "    <tr>\n",
       "      <th>25%</th>\n",
       "      <td>0.440000</td>\n",
       "      <td>0.560000</td>\n",
       "      <td>3.000000</td>\n",
       "      <td>156.000000</td>\n",
       "      <td>3.000000</td>\n",
       "      <td>0.000000</td>\n",
       "      <td>0.000000</td>\n",
       "      <td>0.000000</td>\n",
       "    </tr>\n",
       "    <tr>\n",
       "      <th>50%</th>\n",
       "      <td>0.640000</td>\n",
       "      <td>0.720000</td>\n",
       "      <td>4.000000</td>\n",
       "      <td>200.000000</td>\n",
       "      <td>3.000000</td>\n",
       "      <td>0.000000</td>\n",
       "      <td>0.000000</td>\n",
       "      <td>0.000000</td>\n",
       "    </tr>\n",
       "    <tr>\n",
       "      <th>75%</th>\n",
       "      <td>0.820000</td>\n",
       "      <td>0.870000</td>\n",
       "      <td>5.000000</td>\n",
       "      <td>245.000000</td>\n",
       "      <td>4.000000</td>\n",
       "      <td>0.000000</td>\n",
       "      <td>0.000000</td>\n",
       "      <td>0.000000</td>\n",
       "    </tr>\n",
       "    <tr>\n",
       "      <th>max</th>\n",
       "      <td>1.000000</td>\n",
       "      <td>1.000000</td>\n",
       "      <td>7.000000</td>\n",
       "      <td>310.000000</td>\n",
       "      <td>10.000000</td>\n",
       "      <td>1.000000</td>\n",
       "      <td>1.000000</td>\n",
       "      <td>1.000000</td>\n",
       "    </tr>\n",
       "  </tbody>\n",
       "</table>\n",
       "</div>"
      ],
      "text/plain": [
       "       satisfaction_level  last_evaluation  number_project  \\\n",
       "count        14999.000000     14999.000000    14999.000000   \n",
       "mean             0.612834         0.716102        3.803054   \n",
       "std              0.248631         0.171169        1.232592   \n",
       "min              0.090000         0.360000        2.000000   \n",
       "25%              0.440000         0.560000        3.000000   \n",
       "50%              0.640000         0.720000        4.000000   \n",
       "75%              0.820000         0.870000        5.000000   \n",
       "max              1.000000         1.000000        7.000000   \n",
       "\n",
       "       average_montly_hours  time_spend_company  Work_accident          left  \\\n",
       "count          14999.000000        14999.000000   14999.000000  14999.000000   \n",
       "mean             201.050337            3.498233       0.144610      0.238083   \n",
       "std               49.943099            1.460136       0.351719      0.425924   \n",
       "min               96.000000            2.000000       0.000000      0.000000   \n",
       "25%              156.000000            3.000000       0.000000      0.000000   \n",
       "50%              200.000000            3.000000       0.000000      0.000000   \n",
       "75%              245.000000            4.000000       0.000000      0.000000   \n",
       "max              310.000000           10.000000       1.000000      1.000000   \n",
       "\n",
       "       promotion_last_5years  \n",
       "count           14999.000000  \n",
       "mean                0.021268  \n",
       "std                 0.144281  \n",
       "min                 0.000000  \n",
       "25%                 0.000000  \n",
       "50%                 0.000000  \n",
       "75%                 0.000000  \n",
       "max                 1.000000  "
      ]
     },
     "execution_count": 7,
     "metadata": {},
     "output_type": "execute_result"
    }
   ],
   "source": [
    "# Informações quantitativas do dataset\n",
    "df.describe()"
   ]
  },
  {
   "cell_type": "markdown",
   "id": "855db847-6543-4ca0-aaf2-844a6f73e264",
   "metadata": {},
   "source": [
    "### Tratamento de dados duplicados"
   ]
  },
  {
   "cell_type": "code",
   "execution_count": 36,
   "id": "b0704542-d76b-4f8a-855e-a5beda3b7d33",
   "metadata": {},
   "outputs": [
    {
     "data": {
      "text/html": [
       "<div>\n",
       "<style scoped>\n",
       "    .dataframe tbody tr th:only-of-type {\n",
       "        vertical-align: middle;\n",
       "    }\n",
       "\n",
       "    .dataframe tbody tr th {\n",
       "        vertical-align: top;\n",
       "    }\n",
       "\n",
       "    .dataframe thead th {\n",
       "        text-align: right;\n",
       "    }\n",
       "</style>\n",
       "<table border=\"1\" class=\"dataframe\">\n",
       "  <thead>\n",
       "    <tr style=\"text-align: right;\">\n",
       "      <th></th>\n",
       "      <th>satisfaction_level</th>\n",
       "      <th>last_evaluation</th>\n",
       "      <th>number_project</th>\n",
       "      <th>average_montly_hours</th>\n",
       "      <th>time_spend_company</th>\n",
       "      <th>Work_accident</th>\n",
       "      <th>left</th>\n",
       "      <th>promotion_last_5years</th>\n",
       "      <th>department</th>\n",
       "      <th>salary</th>\n",
       "    </tr>\n",
       "  </thead>\n",
       "  <tbody>\n",
       "    <tr>\n",
       "      <th>396</th>\n",
       "      <td>0.46</td>\n",
       "      <td>0.57</td>\n",
       "      <td>2</td>\n",
       "      <td>139</td>\n",
       "      <td>3</td>\n",
       "      <td>0</td>\n",
       "      <td>1</td>\n",
       "      <td>0</td>\n",
       "      <td>sales</td>\n",
       "      <td>low</td>\n",
       "    </tr>\n",
       "    <tr>\n",
       "      <th>866</th>\n",
       "      <td>0.41</td>\n",
       "      <td>0.46</td>\n",
       "      <td>2</td>\n",
       "      <td>128</td>\n",
       "      <td>3</td>\n",
       "      <td>0</td>\n",
       "      <td>1</td>\n",
       "      <td>0</td>\n",
       "      <td>accounting</td>\n",
       "      <td>low</td>\n",
       "    </tr>\n",
       "    <tr>\n",
       "      <th>1317</th>\n",
       "      <td>0.37</td>\n",
       "      <td>0.51</td>\n",
       "      <td>2</td>\n",
       "      <td>127</td>\n",
       "      <td>3</td>\n",
       "      <td>0</td>\n",
       "      <td>1</td>\n",
       "      <td>0</td>\n",
       "      <td>sales</td>\n",
       "      <td>medium</td>\n",
       "    </tr>\n",
       "    <tr>\n",
       "      <th>1368</th>\n",
       "      <td>0.41</td>\n",
       "      <td>0.52</td>\n",
       "      <td>2</td>\n",
       "      <td>132</td>\n",
       "      <td>3</td>\n",
       "      <td>0</td>\n",
       "      <td>1</td>\n",
       "      <td>0</td>\n",
       "      <td>RandD</td>\n",
       "      <td>low</td>\n",
       "    </tr>\n",
       "    <tr>\n",
       "      <th>1461</th>\n",
       "      <td>0.42</td>\n",
       "      <td>0.53</td>\n",
       "      <td>2</td>\n",
       "      <td>142</td>\n",
       "      <td>3</td>\n",
       "      <td>0</td>\n",
       "      <td>1</td>\n",
       "      <td>0</td>\n",
       "      <td>sales</td>\n",
       "      <td>low</td>\n",
       "    </tr>\n",
       "  </tbody>\n",
       "</table>\n",
       "</div>"
      ],
      "text/plain": [
       "      satisfaction_level  last_evaluation  number_project  \\\n",
       "396                 0.46             0.57               2   \n",
       "866                 0.41             0.46               2   \n",
       "1317                0.37             0.51               2   \n",
       "1368                0.41             0.52               2   \n",
       "1461                0.42             0.53               2   \n",
       "\n",
       "      average_montly_hours  time_spend_company  Work_accident  left  \\\n",
       "396                    139                   3              0     1   \n",
       "866                    128                   3              0     1   \n",
       "1317                   127                   3              0     1   \n",
       "1368                   132                   3              0     1   \n",
       "1461                   142                   3              0     1   \n",
       "\n",
       "      promotion_last_5years  department  salary  \n",
       "396                       0       sales     low  \n",
       "866                       0  accounting     low  \n",
       "1317                      0       sales  medium  \n",
       "1368                      0       RandD     low  \n",
       "1461                      0       sales     low  "
      ]
     },
     "execution_count": 36,
     "metadata": {},
     "output_type": "execute_result"
    }
   ],
   "source": [
    "# Exibindo os primeiros registros dos dados duplicados no dataset\n",
    "df[df.duplicated()].head()"
   ]
  },
  {
   "cell_type": "code",
   "execution_count": 37,
   "id": "dec32ad9-ad2d-4796-84fd-c508aeffb1b7",
   "metadata": {},
   "outputs": [
    {
     "data": {
      "text/plain": [
       "satisfaction_level       3008\n",
       "last_evaluation          3008\n",
       "number_project           3008\n",
       "average_montly_hours     3008\n",
       "time_spend_company       3008\n",
       "Work_accident            3008\n",
       "left                     3008\n",
       "promotion_last_5years    3008\n",
       "department               3008\n",
       "salary                   3008\n",
       "dtype: int64"
      ]
     },
     "execution_count": 37,
     "metadata": {},
     "output_type": "execute_result"
    }
   ],
   "source": [
    "# Contando a quantidade de dados duplicados no Dataset\n",
    "df[df.duplicated()].count()"
   ]
  },
  {
   "cell_type": "code",
   "execution_count": 38,
   "id": "b2f5467a-9ec5-4a8e-b082-849dcab3da1d",
   "metadata": {},
   "outputs": [],
   "source": [
    "# Removendo dados duplicados do dataset\n",
    "df.drop_duplicates(inplace=True)"
   ]
  },
  {
   "cell_type": "code",
   "execution_count": 39,
   "id": "595b7aaa-6ef3-4be2-b110-efc0dc9cd2ae",
   "metadata": {},
   "outputs": [
    {
     "data": {
      "text/plain": [
       "0"
      ]
     },
     "execution_count": 39,
     "metadata": {},
     "output_type": "execute_result"
    }
   ],
   "source": [
    "# Contando a quantidade de dados duplicados no Dataset após limpar.\n",
    "df[df.duplicated()]['satisfaction_level'].count()"
   ]
  },
  {
   "cell_type": "markdown",
   "id": "d667ec66-2d21-48d6-bb1a-e7bc0dcafd88",
   "metadata": {},
   "source": [
    "### Tratamento de dados ausente"
   ]
  },
  {
   "cell_type": "code",
   "execution_count": 40,
   "id": "6fee0eca-df19-438f-bdc6-06836a12ecd9",
   "metadata": {},
   "outputs": [
    {
     "data": {
      "text/plain": [
       "satisfaction_level       0\n",
       "last_evaluation          0\n",
       "number_project           0\n",
       "average_montly_hours     0\n",
       "time_spend_company       0\n",
       "Work_accident            0\n",
       "left                     0\n",
       "promotion_last_5years    0\n",
       "department               0\n",
       "salary                   0\n",
       "dtype: int64"
      ]
     },
     "execution_count": 40,
     "metadata": {},
     "output_type": "execute_result"
    }
   ],
   "source": [
    "# Verifica se existem dados ausentes - Não temos\n",
    "df.isnull().sum()"
   ]
  },
  {
   "cell_type": "markdown",
   "id": "7141289f-ab78-4e50-8e48-eae2b9820b8b",
   "metadata": {},
   "source": [
    "### Modificando tipos de dados das colunas de departement e salary para utilizar nos calculos\n",
    "***"
   ]
  },
  {
   "cell_type": "code",
   "execution_count": 10,
   "id": "5d853127-d41a-46f7-963f-1e423b75047c",
   "metadata": {},
   "outputs": [
    {
     "data": {
      "text/html": [
       "<div>\n",
       "<style scoped>\n",
       "    .dataframe tbody tr th:only-of-type {\n",
       "        vertical-align: middle;\n",
       "    }\n",
       "\n",
       "    .dataframe tbody tr th {\n",
       "        vertical-align: top;\n",
       "    }\n",
       "\n",
       "    .dataframe thead th {\n",
       "        text-align: right;\n",
       "    }\n",
       "</style>\n",
       "<table border=\"1\" class=\"dataframe\">\n",
       "  <thead>\n",
       "    <tr style=\"text-align: right;\">\n",
       "      <th></th>\n",
       "      <th>satisfaction_level</th>\n",
       "      <th>last_evaluation</th>\n",
       "      <th>number_project</th>\n",
       "      <th>average_montly_hours</th>\n",
       "      <th>time_spend_company</th>\n",
       "      <th>Work_accident</th>\n",
       "      <th>left</th>\n",
       "      <th>promotion_last_5years</th>\n",
       "      <th>department</th>\n",
       "      <th>salary</th>\n",
       "    </tr>\n",
       "  </thead>\n",
       "  <tbody>\n",
       "    <tr>\n",
       "      <th>0</th>\n",
       "      <td>0.38</td>\n",
       "      <td>0.53</td>\n",
       "      <td>2</td>\n",
       "      <td>157</td>\n",
       "      <td>3</td>\n",
       "      <td>0</td>\n",
       "      <td>1</td>\n",
       "      <td>0</td>\n",
       "      <td>sales</td>\n",
       "      <td>low</td>\n",
       "    </tr>\n",
       "    <tr>\n",
       "      <th>1</th>\n",
       "      <td>0.80</td>\n",
       "      <td>0.86</td>\n",
       "      <td>5</td>\n",
       "      <td>262</td>\n",
       "      <td>6</td>\n",
       "      <td>0</td>\n",
       "      <td>1</td>\n",
       "      <td>0</td>\n",
       "      <td>sales</td>\n",
       "      <td>medium</td>\n",
       "    </tr>\n",
       "    <tr>\n",
       "      <th>2</th>\n",
       "      <td>0.11</td>\n",
       "      <td>0.88</td>\n",
       "      <td>7</td>\n",
       "      <td>272</td>\n",
       "      <td>4</td>\n",
       "      <td>0</td>\n",
       "      <td>1</td>\n",
       "      <td>0</td>\n",
       "      <td>sales</td>\n",
       "      <td>medium</td>\n",
       "    </tr>\n",
       "    <tr>\n",
       "      <th>3</th>\n",
       "      <td>0.72</td>\n",
       "      <td>0.87</td>\n",
       "      <td>5</td>\n",
       "      <td>223</td>\n",
       "      <td>5</td>\n",
       "      <td>0</td>\n",
       "      <td>1</td>\n",
       "      <td>0</td>\n",
       "      <td>sales</td>\n",
       "      <td>low</td>\n",
       "    </tr>\n",
       "    <tr>\n",
       "      <th>4</th>\n",
       "      <td>0.37</td>\n",
       "      <td>0.52</td>\n",
       "      <td>2</td>\n",
       "      <td>159</td>\n",
       "      <td>3</td>\n",
       "      <td>0</td>\n",
       "      <td>1</td>\n",
       "      <td>0</td>\n",
       "      <td>sales</td>\n",
       "      <td>low</td>\n",
       "    </tr>\n",
       "  </tbody>\n",
       "</table>\n",
       "</div>"
      ],
      "text/plain": [
       "   satisfaction_level  last_evaluation  number_project  average_montly_hours  \\\n",
       "0                0.38             0.53               2                   157   \n",
       "1                0.80             0.86               5                   262   \n",
       "2                0.11             0.88               7                   272   \n",
       "3                0.72             0.87               5                   223   \n",
       "4                0.37             0.52               2                   159   \n",
       "\n",
       "   time_spend_company  Work_accident  left  promotion_last_5years department  \\\n",
       "0                   3              0     1                      0      sales   \n",
       "1                   6              0     1                      0      sales   \n",
       "2                   4              0     1                      0      sales   \n",
       "3                   5              0     1                      0      sales   \n",
       "4                   3              0     1                      0      sales   \n",
       "\n",
       "   salary  \n",
       "0     low  \n",
       "1  medium  \n",
       "2  medium  \n",
       "3     low  \n",
       "4     low  "
      ]
     },
     "execution_count": 10,
     "metadata": {},
     "output_type": "execute_result"
    }
   ],
   "source": [
    "# Exibindo dados como estavam ao carregar base\n",
    "df.head()"
   ]
  },
  {
   "cell_type": "code",
   "execution_count": 11,
   "id": "d7ccb9e2-b9bf-4927-a8c2-9a7025aac230",
   "metadata": {},
   "outputs": [],
   "source": [
    "# modificando dados da coluna 'salary', onde low=0 | medium=1 | high=2\n",
    "df.loc[df['salary'] == 'low', 'salary'] = 0\n",
    "df.loc[df['salary'] == 'medium', 'salary'] = 1\n",
    "df.loc[df['salary'] == 'high', 'salary'] = 2\n",
    "\n",
    "df['salary'] = pd.to_numeric(df['salary'])"
   ]
  },
  {
   "cell_type": "code",
   "execution_count": 12,
   "id": "a3c3ccab-3535-4119-beb0-b3946bfd81f0",
   "metadata": {},
   "outputs": [
    {
     "data": {
      "text/html": [
       "<div>\n",
       "<style scoped>\n",
       "    .dataframe tbody tr th:only-of-type {\n",
       "        vertical-align: middle;\n",
       "    }\n",
       "\n",
       "    .dataframe tbody tr th {\n",
       "        vertical-align: top;\n",
       "    }\n",
       "\n",
       "    .dataframe thead th {\n",
       "        text-align: right;\n",
       "    }\n",
       "</style>\n",
       "<table border=\"1\" class=\"dataframe\">\n",
       "  <thead>\n",
       "    <tr style=\"text-align: right;\">\n",
       "      <th></th>\n",
       "      <th>satisfaction_level</th>\n",
       "      <th>last_evaluation</th>\n",
       "      <th>number_project</th>\n",
       "      <th>average_montly_hours</th>\n",
       "      <th>time_spend_company</th>\n",
       "      <th>Work_accident</th>\n",
       "      <th>left</th>\n",
       "      <th>promotion_last_5years</th>\n",
       "      <th>department</th>\n",
       "      <th>salary</th>\n",
       "    </tr>\n",
       "  </thead>\n",
       "  <tbody>\n",
       "    <tr>\n",
       "      <th>0</th>\n",
       "      <td>0.38</td>\n",
       "      <td>0.53</td>\n",
       "      <td>2</td>\n",
       "      <td>157</td>\n",
       "      <td>3</td>\n",
       "      <td>0</td>\n",
       "      <td>1</td>\n",
       "      <td>0</td>\n",
       "      <td>sales</td>\n",
       "      <td>0</td>\n",
       "    </tr>\n",
       "    <tr>\n",
       "      <th>1</th>\n",
       "      <td>0.80</td>\n",
       "      <td>0.86</td>\n",
       "      <td>5</td>\n",
       "      <td>262</td>\n",
       "      <td>6</td>\n",
       "      <td>0</td>\n",
       "      <td>1</td>\n",
       "      <td>0</td>\n",
       "      <td>sales</td>\n",
       "      <td>1</td>\n",
       "    </tr>\n",
       "    <tr>\n",
       "      <th>2</th>\n",
       "      <td>0.11</td>\n",
       "      <td>0.88</td>\n",
       "      <td>7</td>\n",
       "      <td>272</td>\n",
       "      <td>4</td>\n",
       "      <td>0</td>\n",
       "      <td>1</td>\n",
       "      <td>0</td>\n",
       "      <td>sales</td>\n",
       "      <td>1</td>\n",
       "    </tr>\n",
       "    <tr>\n",
       "      <th>3</th>\n",
       "      <td>0.72</td>\n",
       "      <td>0.87</td>\n",
       "      <td>5</td>\n",
       "      <td>223</td>\n",
       "      <td>5</td>\n",
       "      <td>0</td>\n",
       "      <td>1</td>\n",
       "      <td>0</td>\n",
       "      <td>sales</td>\n",
       "      <td>0</td>\n",
       "    </tr>\n",
       "    <tr>\n",
       "      <th>4</th>\n",
       "      <td>0.37</td>\n",
       "      <td>0.52</td>\n",
       "      <td>2</td>\n",
       "      <td>159</td>\n",
       "      <td>3</td>\n",
       "      <td>0</td>\n",
       "      <td>1</td>\n",
       "      <td>0</td>\n",
       "      <td>sales</td>\n",
       "      <td>0</td>\n",
       "    </tr>\n",
       "  </tbody>\n",
       "</table>\n",
       "</div>"
      ],
      "text/plain": [
       "   satisfaction_level  last_evaluation  number_project  average_montly_hours  \\\n",
       "0                0.38             0.53               2                   157   \n",
       "1                0.80             0.86               5                   262   \n",
       "2                0.11             0.88               7                   272   \n",
       "3                0.72             0.87               5                   223   \n",
       "4                0.37             0.52               2                   159   \n",
       "\n",
       "   time_spend_company  Work_accident  left  promotion_last_5years department  \\\n",
       "0                   3              0     1                      0      sales   \n",
       "1                   6              0     1                      0      sales   \n",
       "2                   4              0     1                      0      sales   \n",
       "3                   5              0     1                      0      sales   \n",
       "4                   3              0     1                      0      sales   \n",
       "\n",
       "   salary  \n",
       "0       0  \n",
       "1       1  \n",
       "2       1  \n",
       "3       0  \n",
       "4       0  "
      ]
     },
     "execution_count": 12,
     "metadata": {},
     "output_type": "execute_result"
    }
   ],
   "source": [
    "# Exibindo dados com coluna 'salary' alterada\n",
    "df.head()"
   ]
  },
  {
   "cell_type": "code",
   "execution_count": 117,
   "id": "157f8e94-4980-4776-bfe6-ee91b578379e",
   "metadata": {},
   "outputs": [],
   "source": [
    "from sklearn.preprocessing import LabelEncoder\n",
    "\n",
    "# Instanciando o LabelEncoder\n",
    "le = LabelEncoder()\n",
    "\n",
    "# Para cada coluna categórica, ajuste e transforme os dados\n",
    "categorical_columns = ['department', 'salary']  # Substitua pelo nome real das suas colunas categóricas\n",
    "for col in categorical_columns:\n",
    "    df[col] = le.fit_transform(df[col])"
   ]
  },
  {
   "cell_type": "code",
   "execution_count": 118,
   "id": "85238862-d336-462b-af14-76079224c007",
   "metadata": {},
   "outputs": [
    {
     "data": {
      "text/html": [
       "<div>\n",
       "<style scoped>\n",
       "    .dataframe tbody tr th:only-of-type {\n",
       "        vertical-align: middle;\n",
       "    }\n",
       "\n",
       "    .dataframe tbody tr th {\n",
       "        vertical-align: top;\n",
       "    }\n",
       "\n",
       "    .dataframe thead th {\n",
       "        text-align: right;\n",
       "    }\n",
       "</style>\n",
       "<table border=\"1\" class=\"dataframe\">\n",
       "  <thead>\n",
       "    <tr style=\"text-align: right;\">\n",
       "      <th></th>\n",
       "      <th>satisfaction_level</th>\n",
       "      <th>last_evaluation</th>\n",
       "      <th>number_project</th>\n",
       "      <th>average_montly_hours</th>\n",
       "      <th>time_spend_company</th>\n",
       "      <th>Work_accident</th>\n",
       "      <th>left</th>\n",
       "      <th>promotion_last_5years</th>\n",
       "      <th>department</th>\n",
       "      <th>salary</th>\n",
       "    </tr>\n",
       "  </thead>\n",
       "  <tbody>\n",
       "    <tr>\n",
       "      <th>0</th>\n",
       "      <td>0.38</td>\n",
       "      <td>0.53</td>\n",
       "      <td>2</td>\n",
       "      <td>157</td>\n",
       "      <td>3</td>\n",
       "      <td>0</td>\n",
       "      <td>1</td>\n",
       "      <td>0</td>\n",
       "      <td>0</td>\n",
       "      <td>0</td>\n",
       "    </tr>\n",
       "    <tr>\n",
       "      <th>1</th>\n",
       "      <td>0.80</td>\n",
       "      <td>0.86</td>\n",
       "      <td>5</td>\n",
       "      <td>262</td>\n",
       "      <td>6</td>\n",
       "      <td>0</td>\n",
       "      <td>1</td>\n",
       "      <td>0</td>\n",
       "      <td>0</td>\n",
       "      <td>1</td>\n",
       "    </tr>\n",
       "    <tr>\n",
       "      <th>2</th>\n",
       "      <td>0.11</td>\n",
       "      <td>0.88</td>\n",
       "      <td>7</td>\n",
       "      <td>272</td>\n",
       "      <td>4</td>\n",
       "      <td>0</td>\n",
       "      <td>1</td>\n",
       "      <td>0</td>\n",
       "      <td>0</td>\n",
       "      <td>1</td>\n",
       "    </tr>\n",
       "    <tr>\n",
       "      <th>3</th>\n",
       "      <td>0.72</td>\n",
       "      <td>0.87</td>\n",
       "      <td>5</td>\n",
       "      <td>223</td>\n",
       "      <td>5</td>\n",
       "      <td>0</td>\n",
       "      <td>1</td>\n",
       "      <td>0</td>\n",
       "      <td>0</td>\n",
       "      <td>0</td>\n",
       "    </tr>\n",
       "    <tr>\n",
       "      <th>4</th>\n",
       "      <td>0.37</td>\n",
       "      <td>0.52</td>\n",
       "      <td>2</td>\n",
       "      <td>159</td>\n",
       "      <td>3</td>\n",
       "      <td>0</td>\n",
       "      <td>1</td>\n",
       "      <td>0</td>\n",
       "      <td>0</td>\n",
       "      <td>0</td>\n",
       "    </tr>\n",
       "  </tbody>\n",
       "</table>\n",
       "</div>"
      ],
      "text/plain": [
       "   satisfaction_level  last_evaluation  number_project  average_montly_hours  \\\n",
       "0                0.38             0.53               2                   157   \n",
       "1                0.80             0.86               5                   262   \n",
       "2                0.11             0.88               7                   272   \n",
       "3                0.72             0.87               5                   223   \n",
       "4                0.37             0.52               2                   159   \n",
       "\n",
       "   time_spend_company  Work_accident  left  promotion_last_5years  department  \\\n",
       "0                   3              0     1                      0           0   \n",
       "1                   6              0     1                      0           0   \n",
       "2                   4              0     1                      0           0   \n",
       "3                   5              0     1                      0           0   \n",
       "4                   3              0     1                      0           0   \n",
       "\n",
       "   salary  \n",
       "0       0  \n",
       "1       1  \n",
       "2       1  \n",
       "3       0  \n",
       "4       0  "
      ]
     },
     "execution_count": 118,
     "metadata": {},
     "output_type": "execute_result"
    }
   ],
   "source": [
    "# Exibindo dados com coluna 'department' alterada\n",
    "df.head()"
   ]
  },
  {
   "cell_type": "code",
   "execution_count": 119,
   "id": "2af66ea3-3264-4ec2-9f88-47db9111af20",
   "metadata": {},
   "outputs": [
    {
     "name": "stdout",
     "output_type": "stream",
     "text": [
      "<class 'pandas.core.frame.DataFrame'>\n",
      "RangeIndex: 14999 entries, 0 to 14998\n",
      "Data columns (total 10 columns):\n",
      " #   Column                 Non-Null Count  Dtype  \n",
      "---  ------                 --------------  -----  \n",
      " 0   satisfaction_level     14999 non-null  float64\n",
      " 1   last_evaluation        14999 non-null  float64\n",
      " 2   number_project         14999 non-null  int64  \n",
      " 3   average_montly_hours   14999 non-null  int64  \n",
      " 4   time_spend_company     14999 non-null  int64  \n",
      " 5   Work_accident          14999 non-null  int64  \n",
      " 6   left                   14999 non-null  int64  \n",
      " 7   promotion_last_5years  14999 non-null  int64  \n",
      " 8   department             14999 non-null  int64  \n",
      " 9   salary                 14999 non-null  int64  \n",
      "dtypes: float64(2), int64(8)\n",
      "memory usage: 1.1 MB\n"
     ]
    }
   ],
   "source": [
    "# Exibindo informações da base de dados\n",
    "df.info()"
   ]
  },
  {
   "cell_type": "markdown",
   "id": "ca4a293a-c3ec-408f-8cf1-5ae70af4f003",
   "metadata": {},
   "source": [
    "### Balanceamento de dados\n",
    "***"
   ]
  },
  {
   "cell_type": "code",
   "execution_count": 120,
   "id": "063667a2-a227-44a2-8ba3-845bfafdbf8b",
   "metadata": {},
   "outputs": [
    {
     "data": {
      "text/plain": [
       "array([[0.38, 0.53, 2.  , ..., 0.  , 0.  , 0.  ],\n",
       "       [0.8 , 0.86, 5.  , ..., 0.  , 0.  , 1.  ],\n",
       "       [0.11, 0.88, 7.  , ..., 0.  , 0.  , 1.  ],\n",
       "       ...,\n",
       "       [0.37, 0.53, 2.  , ..., 0.  , 4.  , 0.  ],\n",
       "       [0.11, 0.96, 6.  , ..., 0.  , 4.  , 0.  ],\n",
       "       [0.37, 0.52, 2.  , ..., 0.  , 4.  , 0.  ]])"
      ]
     },
     "execution_count": 120,
     "metadata": {},
     "output_type": "execute_result"
    }
   ],
   "source": [
    "# Pegando dados de análise e removendo coluna que indica o resultado a ser buscado. \n",
    "X_dados = df.drop('left', axis=1).values\n",
    "X_dados"
   ]
  },
  {
   "cell_type": "code",
   "execution_count": 121,
   "id": "fcfc8226-5c8b-4939-8486-350a2148e2ac",
   "metadata": {},
   "outputs": [
    {
     "data": {
      "text/plain": [
       "array([1, 1, 1, ..., 1, 1, 1], dtype=int64)"
      ]
     },
     "execution_count": 121,
     "metadata": {},
     "output_type": "execute_result"
    }
   ],
   "source": [
    "# Separando coluna com resultado esperado para comparação a análise do algoritmo.\n",
    "y_dados = df['left'].values\n",
    "y_dados"
   ]
  },
  {
   "cell_type": "code",
   "execution_count": 122,
   "id": "142f4681-ee3c-4a6b-b806-8b27407b556f",
   "metadata": {},
   "outputs": [],
   "source": [
    "# Criando função para balancear os dados\n",
    "def balanceamento_dados(X_dados, y_dados):\n",
    "    undersample = RandomUnderSampler(random_state = 42)\n",
    "    X_under, y_under = undersample.fit_resample(X_dados, y_dados)\n",
    "    \n",
    "    tl = TomekLinks(sampling_strategy='all') #trabalha com outliers\n",
    "    X_under, y_under  = tl.fit_resample(X_under, y_under)\n",
    "    return X_under, y_under"
   ]
  },
  {
   "cell_type": "code",
   "execution_count": 123,
   "id": "02f1784c-2c90-418b-9e54-349abf77a9f5",
   "metadata": {},
   "outputs": [],
   "source": [
    "# Aplicando técnica de balanceamento de dados \n",
    "X_dados_balanceados, y_dados_balanceados = balanceamento_dados(X_dados, y_dados)"
   ]
  },
  {
   "cell_type": "code",
   "execution_count": 124,
   "id": "765e0e09-efa8-49f8-ae19-36db0af66db9",
   "metadata": {},
   "outputs": [
    {
     "name": "stdout",
     "output_type": "stream",
     "text": [
      "7048 7048\n"
     ]
    }
   ],
   "source": [
    "# Verificando resultado do balanceamento feito\n",
    "print(len(X_dados_balanceados), len(y_dados_balanceados))"
   ]
  },
  {
   "cell_type": "markdown",
   "id": "c90dfc41-7eb6-4902-a0a2-909677f3c3f7",
   "metadata": {},
   "source": [
    "### Realizando separação dos dados de treinamento e teste\n",
    "***"
   ]
  },
  {
   "cell_type": "code",
   "execution_count": 125,
   "id": "836842b1-4ff8-491b-918e-e8fe2295c38a",
   "metadata": {},
   "outputs": [],
   "source": [
    "# Criando função para realizar separação dos dados de treinamento e teste.\n",
    "def separa_treino_teste(X_dados_balanceados, y_dados_balanceados):\n",
    "    X_train, X_test, y_train, y_test = train_test_split(X_dados_balanceados, y_dados_balanceados, random_state=42, test_size =0.3)\n",
    "    return X_train, X_test, y_train, y_test"
   ]
  },
  {
   "cell_type": "code",
   "execution_count": 126,
   "id": "c3f3be9f-09e3-4439-9b9e-cd146017efe5",
   "metadata": {},
   "outputs": [],
   "source": [
    "#Separando conjuntos de treino e teste \n",
    "X_train, X_test, y_train, y_test = separa_treino_teste(X_dados_balanceados, y_dados_balanceados)"
   ]
  },
  {
   "cell_type": "markdown",
   "id": "a3dd0bdc-cbc8-4bb1-b851-996d02004571",
   "metadata": {},
   "source": [
    "### Criando modelo de RandomForest\n",
    "***"
   ]
  },
  {
   "cell_type": "code",
   "execution_count": 127,
   "id": "98df9aad-2377-435a-a158-bd025a7a5bd1",
   "metadata": {},
   "outputs": [
    {
     "data": {
      "text/plain": [
       "array([0, 0, 0, ..., 0, 1, 0], dtype=int64)"
      ]
     },
     "execution_count": 127,
     "metadata": {},
     "output_type": "execute_result"
    }
   ],
   "source": [
    "# Cria o classificador Random Forest\n",
    "classifier = RandomForestClassifier(random_state=42, n_estimators=100, max_depth=100)\n",
    "\n",
    "#Cria o modelo de classificação\n",
    "modelo = classifier.fit(X_train, y_train)\n",
    "\n",
    "#Realiza predições\n",
    "y_pred = modelo.predict(X_test)\n",
    "y_pred"
   ]
  },
  {
   "cell_type": "markdown",
   "id": "b5e6f4a2-b1d9-4d21-8393-a1d8ef6413b6",
   "metadata": {},
   "source": [
    "### Criando a matriz de confusão\n",
    "***"
   ]
  },
  {
   "cell_type": "code",
   "execution_count": 128,
   "id": "a465403c-7b85-46b5-8c75-2fd8a31c3860",
   "metadata": {},
   "outputs": [
    {
     "data": {
      "text/plain": [
       "array([[1086,   10],\n",
       "       [  15, 1004]], dtype=int64)"
      ]
     },
     "execution_count": 128,
     "metadata": {},
     "output_type": "execute_result"
    }
   ],
   "source": [
    "# Criando matriz de coonfusão\n",
    "cm = confusion_matrix(y_test, y_pred)\n",
    "cm"
   ]
  },
  {
   "cell_type": "markdown",
   "id": "d9e61c2c-cdf8-4cb5-b8c8-0dd0bbcb2ed7",
   "metadata": {},
   "source": [
    "### Calculando a acurácia do modelo\n",
    "***"
   ]
  },
  {
   "cell_type": "code",
   "execution_count": 129,
   "id": "622e0f43-be0c-4ba1-a9f5-1c33285da41a",
   "metadata": {},
   "outputs": [
    {
     "name": "stdout",
     "output_type": "stream",
     "text": [
      "Precisão(%):  0.9881796690307328\n"
     ]
    }
   ],
   "source": [
    "acuraria = accuracy_score(y_test, y_pred)\n",
    "print('Precisão(%): ', acuraria)"
   ]
  },
  {
   "cell_type": "markdown",
   "id": "7896bad1-4c9a-4050-8745-71d495ccf147",
   "metadata": {},
   "source": [
    "### Perguntas \n",
    "***"
   ]
  },
  {
   "cell_type": "markdown",
   "id": "7f9761bc-5d65-4dd5-85c3-3930a220e632",
   "metadata": {},
   "source": [
    "6. Qual é média do nível de satisfação dos profissionais que são do departamento de TI e que saíram da empresa?\n"
   ]
  },
  {
   "cell_type": "code",
   "execution_count": 130,
   "id": "86e2edb8-593b-4a99-b184-c1e5a2435c03",
   "metadata": {},
   "outputs": [
    {
     "data": {
      "text/html": [
       "<div>\n",
       "<style scoped>\n",
       "    .dataframe tbody tr th:only-of-type {\n",
       "        vertical-align: middle;\n",
       "    }\n",
       "\n",
       "    .dataframe tbody tr th {\n",
       "        vertical-align: top;\n",
       "    }\n",
       "\n",
       "    .dataframe thead th {\n",
       "        text-align: right;\n",
       "    }\n",
       "</style>\n",
       "<table border=\"1\" class=\"dataframe\">\n",
       "  <thead>\n",
       "    <tr style=\"text-align: right;\">\n",
       "      <th></th>\n",
       "      <th>satisfaction_level</th>\n",
       "      <th>last_evaluation</th>\n",
       "      <th>number_project</th>\n",
       "      <th>average_montly_hours</th>\n",
       "      <th>time_spend_company</th>\n",
       "      <th>Work_accident</th>\n",
       "      <th>left</th>\n",
       "      <th>promotion_last_5years</th>\n",
       "      <th>department</th>\n",
       "      <th>salary</th>\n",
       "    </tr>\n",
       "  </thead>\n",
       "  <tbody>\n",
       "    <tr>\n",
       "      <th>61</th>\n",
       "      <td>0.11</td>\n",
       "      <td>0.93</td>\n",
       "      <td>7</td>\n",
       "      <td>308</td>\n",
       "      <td>4</td>\n",
       "      <td>0</td>\n",
       "      <td>1</td>\n",
       "      <td>0</td>\n",
       "      <td>6</td>\n",
       "      <td>1</td>\n",
       "    </tr>\n",
       "    <tr>\n",
       "      <th>62</th>\n",
       "      <td>0.10</td>\n",
       "      <td>0.95</td>\n",
       "      <td>6</td>\n",
       "      <td>244</td>\n",
       "      <td>5</td>\n",
       "      <td>0</td>\n",
       "      <td>1</td>\n",
       "      <td>0</td>\n",
       "      <td>6</td>\n",
       "      <td>1</td>\n",
       "    </tr>\n",
       "    <tr>\n",
       "      <th>63</th>\n",
       "      <td>0.36</td>\n",
       "      <td>0.56</td>\n",
       "      <td>2</td>\n",
       "      <td>132</td>\n",
       "      <td>3</td>\n",
       "      <td>0</td>\n",
       "      <td>1</td>\n",
       "      <td>0</td>\n",
       "      <td>6</td>\n",
       "      <td>1</td>\n",
       "    </tr>\n",
       "    <tr>\n",
       "      <th>64</th>\n",
       "      <td>0.11</td>\n",
       "      <td>0.94</td>\n",
       "      <td>6</td>\n",
       "      <td>286</td>\n",
       "      <td>4</td>\n",
       "      <td>0</td>\n",
       "      <td>1</td>\n",
       "      <td>0</td>\n",
       "      <td>6</td>\n",
       "      <td>1</td>\n",
       "    </tr>\n",
       "    <tr>\n",
       "      <th>65</th>\n",
       "      <td>0.81</td>\n",
       "      <td>0.70</td>\n",
       "      <td>6</td>\n",
       "      <td>161</td>\n",
       "      <td>4</td>\n",
       "      <td>0</td>\n",
       "      <td>1</td>\n",
       "      <td>0</td>\n",
       "      <td>6</td>\n",
       "      <td>1</td>\n",
       "    </tr>\n",
       "    <tr>\n",
       "      <th>...</th>\n",
       "      <td>...</td>\n",
       "      <td>...</td>\n",
       "      <td>...</td>\n",
       "      <td>...</td>\n",
       "      <td>...</td>\n",
       "      <td>...</td>\n",
       "      <td>...</td>\n",
       "      <td>...</td>\n",
       "      <td>...</td>\n",
       "      <td>...</td>\n",
       "    </tr>\n",
       "    <tr>\n",
       "      <th>14930</th>\n",
       "      <td>0.11</td>\n",
       "      <td>0.89</td>\n",
       "      <td>6</td>\n",
       "      <td>268</td>\n",
       "      <td>4</td>\n",
       "      <td>0</td>\n",
       "      <td>1</td>\n",
       "      <td>0</td>\n",
       "      <td>6</td>\n",
       "      <td>1</td>\n",
       "    </tr>\n",
       "    <tr>\n",
       "      <th>14931</th>\n",
       "      <td>0.87</td>\n",
       "      <td>0.88</td>\n",
       "      <td>5</td>\n",
       "      <td>240</td>\n",
       "      <td>5</td>\n",
       "      <td>0</td>\n",
       "      <td>1</td>\n",
       "      <td>0</td>\n",
       "      <td>6</td>\n",
       "      <td>1</td>\n",
       "    </tr>\n",
       "    <tr>\n",
       "      <th>14932</th>\n",
       "      <td>0.39</td>\n",
       "      <td>0.49</td>\n",
       "      <td>2</td>\n",
       "      <td>127</td>\n",
       "      <td>3</td>\n",
       "      <td>0</td>\n",
       "      <td>1</td>\n",
       "      <td>0</td>\n",
       "      <td>6</td>\n",
       "      <td>1</td>\n",
       "    </tr>\n",
       "    <tr>\n",
       "      <th>14933</th>\n",
       "      <td>0.10</td>\n",
       "      <td>0.94</td>\n",
       "      <td>7</td>\n",
       "      <td>264</td>\n",
       "      <td>4</td>\n",
       "      <td>0</td>\n",
       "      <td>1</td>\n",
       "      <td>0</td>\n",
       "      <td>6</td>\n",
       "      <td>1</td>\n",
       "    </tr>\n",
       "    <tr>\n",
       "      <th>14938</th>\n",
       "      <td>0.90</td>\n",
       "      <td>0.92</td>\n",
       "      <td>4</td>\n",
       "      <td>271</td>\n",
       "      <td>5</td>\n",
       "      <td>0</td>\n",
       "      <td>1</td>\n",
       "      <td>0</td>\n",
       "      <td>6</td>\n",
       "      <td>1</td>\n",
       "    </tr>\n",
       "  </tbody>\n",
       "</table>\n",
       "<p>273 rows × 10 columns</p>\n",
       "</div>"
      ],
      "text/plain": [
       "       satisfaction_level  last_evaluation  number_project  \\\n",
       "61                   0.11             0.93               7   \n",
       "62                   0.10             0.95               6   \n",
       "63                   0.36             0.56               2   \n",
       "64                   0.11             0.94               6   \n",
       "65                   0.81             0.70               6   \n",
       "...                   ...              ...             ...   \n",
       "14930                0.11             0.89               6   \n",
       "14931                0.87             0.88               5   \n",
       "14932                0.39             0.49               2   \n",
       "14933                0.10             0.94               7   \n",
       "14938                0.90             0.92               4   \n",
       "\n",
       "       average_montly_hours  time_spend_company  Work_accident  left  \\\n",
       "61                      308                   4              0     1   \n",
       "62                      244                   5              0     1   \n",
       "63                      132                   3              0     1   \n",
       "64                      286                   4              0     1   \n",
       "65                      161                   4              0     1   \n",
       "...                     ...                 ...            ...   ...   \n",
       "14930                   268                   4              0     1   \n",
       "14931                   240                   5              0     1   \n",
       "14932                   127                   3              0     1   \n",
       "14933                   264                   4              0     1   \n",
       "14938                   271                   5              0     1   \n",
       "\n",
       "       promotion_last_5years  department  salary  \n",
       "61                         0           6       1  \n",
       "62                         0           6       1  \n",
       "63                         0           6       1  \n",
       "64                         0           6       1  \n",
       "65                         0           6       1  \n",
       "...                      ...         ...     ...  \n",
       "14930                      0           6       1  \n",
       "14931                      0           6       1  \n",
       "14932                      0           6       1  \n",
       "14933                      0           6       1  \n",
       "14938                      0           6       1  \n",
       "\n",
       "[273 rows x 10 columns]"
      ]
     },
     "execution_count": 130,
     "metadata": {},
     "output_type": "execute_result"
    }
   ],
   "source": [
    "# Filtrando pelo departamento de TI (IT) == 6 e profissionais que sairam: left == 1\n",
    "dfQuestion1 = df.query(\"department == 6 and left == 1\")\n",
    "dfQuestion1"
   ]
  },
  {
   "cell_type": "code",
   "execution_count": 131,
   "id": "b1acc768-09b7-486c-8e96-640d7049f7ac",
   "metadata": {},
   "outputs": [
    {
     "data": {
      "text/html": [
       "<div>\n",
       "<style scoped>\n",
       "    .dataframe tbody tr th:only-of-type {\n",
       "        vertical-align: middle;\n",
       "    }\n",
       "\n",
       "    .dataframe tbody tr th {\n",
       "        vertical-align: top;\n",
       "    }\n",
       "\n",
       "    .dataframe thead th {\n",
       "        text-align: right;\n",
       "    }\n",
       "</style>\n",
       "<table border=\"1\" class=\"dataframe\">\n",
       "  <thead>\n",
       "    <tr style=\"text-align: right;\">\n",
       "      <th></th>\n",
       "      <th>satisfaction_level</th>\n",
       "      <th>last_evaluation</th>\n",
       "      <th>number_project</th>\n",
       "      <th>average_montly_hours</th>\n",
       "      <th>time_spend_company</th>\n",
       "      <th>Work_accident</th>\n",
       "      <th>left</th>\n",
       "      <th>promotion_last_5years</th>\n",
       "      <th>department</th>\n",
       "      <th>salary</th>\n",
       "    </tr>\n",
       "  </thead>\n",
       "  <tbody>\n",
       "    <tr>\n",
       "      <th>count</th>\n",
       "      <td>273.000000</td>\n",
       "      <td>273.000000</td>\n",
       "      <td>273.000000</td>\n",
       "      <td>273.000000</td>\n",
       "      <td>273.000000</td>\n",
       "      <td>273.000000</td>\n",
       "      <td>273.0</td>\n",
       "      <td>273.000000</td>\n",
       "      <td>273.0</td>\n",
       "      <td>273.000000</td>\n",
       "    </tr>\n",
       "    <tr>\n",
       "      <th>mean</th>\n",
       "      <td>0.411868</td>\n",
       "      <td>0.730037</td>\n",
       "      <td>4.025641</td>\n",
       "      <td>213.849817</td>\n",
       "      <td>3.860806</td>\n",
       "      <td>0.032967</td>\n",
       "      <td>1.0</td>\n",
       "      <td>0.010989</td>\n",
       "      <td>6.0</td>\n",
       "      <td>0.384615</td>\n",
       "    </tr>\n",
       "    <tr>\n",
       "      <th>std</th>\n",
       "      <td>0.271041</td>\n",
       "      <td>0.194010</td>\n",
       "      <td>1.859812</td>\n",
       "      <td>64.071962</td>\n",
       "      <td>0.908924</td>\n",
       "      <td>0.178878</td>\n",
       "      <td>0.0</td>\n",
       "      <td>0.104442</td>\n",
       "      <td>0.0</td>\n",
       "      <td>0.516690</td>\n",
       "    </tr>\n",
       "    <tr>\n",
       "      <th>min</th>\n",
       "      <td>0.090000</td>\n",
       "      <td>0.450000</td>\n",
       "      <td>2.000000</td>\n",
       "      <td>127.000000</td>\n",
       "      <td>2.000000</td>\n",
       "      <td>0.000000</td>\n",
       "      <td>1.0</td>\n",
       "      <td>0.000000</td>\n",
       "      <td>6.0</td>\n",
       "      <td>0.000000</td>\n",
       "    </tr>\n",
       "    <tr>\n",
       "      <th>25%</th>\n",
       "      <td>0.110000</td>\n",
       "      <td>0.530000</td>\n",
       "      <td>2.000000</td>\n",
       "      <td>146.000000</td>\n",
       "      <td>3.000000</td>\n",
       "      <td>0.000000</td>\n",
       "      <td>1.0</td>\n",
       "      <td>0.000000</td>\n",
       "      <td>6.0</td>\n",
       "      <td>0.000000</td>\n",
       "    </tr>\n",
       "    <tr>\n",
       "      <th>50%</th>\n",
       "      <td>0.390000</td>\n",
       "      <td>0.810000</td>\n",
       "      <td>4.000000</td>\n",
       "      <td>239.000000</td>\n",
       "      <td>4.000000</td>\n",
       "      <td>0.000000</td>\n",
       "      <td>1.0</td>\n",
       "      <td>0.000000</td>\n",
       "      <td>6.0</td>\n",
       "      <td>0.000000</td>\n",
       "    </tr>\n",
       "    <tr>\n",
       "      <th>75%</th>\n",
       "      <td>0.670000</td>\n",
       "      <td>0.910000</td>\n",
       "      <td>6.000000</td>\n",
       "      <td>268.000000</td>\n",
       "      <td>5.000000</td>\n",
       "      <td>0.000000</td>\n",
       "      <td>1.0</td>\n",
       "      <td>0.000000</td>\n",
       "      <td>6.0</td>\n",
       "      <td>1.000000</td>\n",
       "    </tr>\n",
       "    <tr>\n",
       "      <th>max</th>\n",
       "      <td>0.920000</td>\n",
       "      <td>1.000000</td>\n",
       "      <td>7.000000</td>\n",
       "      <td>308.000000</td>\n",
       "      <td>6.000000</td>\n",
       "      <td>1.000000</td>\n",
       "      <td>1.0</td>\n",
       "      <td>1.000000</td>\n",
       "      <td>6.0</td>\n",
       "      <td>2.000000</td>\n",
       "    </tr>\n",
       "  </tbody>\n",
       "</table>\n",
       "</div>"
      ],
      "text/plain": [
       "       satisfaction_level  last_evaluation  number_project  \\\n",
       "count          273.000000       273.000000      273.000000   \n",
       "mean             0.411868         0.730037        4.025641   \n",
       "std              0.271041         0.194010        1.859812   \n",
       "min              0.090000         0.450000        2.000000   \n",
       "25%              0.110000         0.530000        2.000000   \n",
       "50%              0.390000         0.810000        4.000000   \n",
       "75%              0.670000         0.910000        6.000000   \n",
       "max              0.920000         1.000000        7.000000   \n",
       "\n",
       "       average_montly_hours  time_spend_company  Work_accident   left  \\\n",
       "count            273.000000          273.000000     273.000000  273.0   \n",
       "mean             213.849817            3.860806       0.032967    1.0   \n",
       "std               64.071962            0.908924       0.178878    0.0   \n",
       "min              127.000000            2.000000       0.000000    1.0   \n",
       "25%              146.000000            3.000000       0.000000    1.0   \n",
       "50%              239.000000            4.000000       0.000000    1.0   \n",
       "75%              268.000000            5.000000       0.000000    1.0   \n",
       "max              308.000000            6.000000       1.000000    1.0   \n",
       "\n",
       "       promotion_last_5years  department      salary  \n",
       "count             273.000000       273.0  273.000000  \n",
       "mean                0.010989         6.0    0.384615  \n",
       "std                 0.104442         0.0    0.516690  \n",
       "min                 0.000000         6.0    0.000000  \n",
       "25%                 0.000000         6.0    0.000000  \n",
       "50%                 0.000000         6.0    0.000000  \n",
       "75%                 0.000000         6.0    1.000000  \n",
       "max                 1.000000         6.0    2.000000  "
      ]
     },
     "execution_count": 131,
     "metadata": {},
     "output_type": "execute_result"
    }
   ],
   "source": [
    "# Observando a médias dos de nível de satisfação (satisfaction_level) dos profissionais.\n",
    "dfQuestion1.describe()"
   ]
  },
  {
   "cell_type": "markdown",
   "id": "97f902d6-6ba6-4f65-b8b3-22649e4e8acb",
   "metadata": {},
   "source": [
    "***"
   ]
  },
  {
   "cell_type": "markdown",
   "id": "d7fff55a-d4f7-423a-8169-c931d0eade86",
   "metadata": {},
   "source": [
    "7. Construa um histograma que ilustre a distribuição das médias de horas trabalhadas na empresa de todos os profissionais. Configure o gráfico com 20 barras para proporcionar uma representação visual detalhada."
   ]
  },
  {
   "cell_type": "code",
   "execution_count": 132,
   "id": "8f3c56e2-7654-420e-9042-344f4d3c944f",
   "metadata": {},
   "outputs": [
    {
     "data": {
      "text/plain": [
       "201.0503366891126"
      ]
     },
     "execution_count": 132,
     "metadata": {},
     "output_type": "execute_result"
    }
   ],
   "source": [
    "df['average_montly_hours'].mean()\n"
   ]
  },
  {
   "cell_type": "code",
   "execution_count": 133,
   "id": "42f5f3cc-dc45-4853-b2d7-9a8c63099a06",
   "metadata": {},
   "outputs": [
    {
     "data": {
      "image/png": "[encoded data removed]",
      "text/plain": [
       "<Figure size 1000x500 with 1 Axes>"
      ]
     },
     "metadata": {},
     "output_type": "display_data"
    }
   ],
   "source": [
    "plt.figure(figsize=(10,5))\n",
    "plt.hist('average_montly_hours', data=df, bins=20)\n",
    "plt.xlabel('average_montly_hours')\n",
    "plt.ylabel('Frequência Cardíaca Máxima')\n",
    "plt.show() "
   ]
  },
  {
   "cell_type": "markdown",
   "id": "178b7e18-d212-42e5-b973-719712bfb7a1",
   "metadata": {},
   "source": [
    "8. Qual departamento registrou a maior média de horas trabalhadas por funcionário e qual foi o número médio de projetos executados por funcionário nesse departamento?"
   ]
  },
  {
   "cell_type": "code",
   "execution_count": 97,
   "id": "d3bd5c8c-dfed-4cb5-bf2c-711c3d0f23d5",
   "metadata": {},
   "outputs": [
    {
     "data": {
      "text/plain": [
       "department\n",
       "0    200.911353\n",
       "1    201.162973\n",
       "2    198.684709\n",
       "3    202.497426\n",
       "4    200.758188\n",
       "5    201.249206\n",
       "6    202.215974\n",
       "7    199.965632\n",
       "8    199.385781\n",
       "9    200.800508\n",
       "Name: average_montly_hours, dtype: float64"
      ]
     },
     "execution_count": 97,
     "metadata": {},
     "output_type": "execute_result"
    }
   ],
   "source": [
    "df.groupby('department')['average_montly_hours'].mean()"
   ]
  },
  {
   "cell_type": "code",
   "execution_count": 98,
   "id": "cbf5b2bb-3a04-4057-aa4b-fbff3545c161",
   "metadata": {},
   "outputs": [
    {
     "data": {
      "text/plain": [
       "3.8779411764705882"
      ]
     },
     "execution_count": 98,
     "metadata": {},
     "output_type": "execute_result"
    }
   ],
   "source": [
    "df.query('department == 3')['number_project'].mean()"
   ]
  },
  {
   "cell_type": "markdown",
   "id": "72923558-ffa0-453d-8c34-4e30f4bddb84",
   "metadata": {},
   "source": [
    "Resposta: Technical (3) - 3.87 (média de projetos)\n",
    "***"
   ]
  },
  {
   "cell_type": "markdown",
   "id": "0b4a5b29-c33a-48cc-9770-abe1c69b4d40",
   "metadata": {},
   "source": [
    "9. Elabore um gráfico de boxplot que represente a distribuição da média de horas trabalhadas de todos os profissionais do departamento TI, classificados de acordo com seu salário. Após isso, assinale a alternativa que melhor representa o resultado gerado.\n",
    "\n"
   ]
  },
  {
   "cell_type": "code",
   "execution_count": 112,
   "id": "b35d9b50-238b-4c93-b5b7-fa592e36d36c",
   "metadata": {},
   "outputs": [
    {
     "data": {
      "text/plain": [
       "[[       satisfaction_level  last_evaluation  number_project  \\\n",
       "  1281                 0.75             0.88               5   \n",
       "  1359                 0.46             0.46               2   \n",
       "  1437                 0.40             0.53               2   \n",
       "  1515                 0.72             0.99               5   \n",
       "  3192                 0.49             0.76               5   \n",
       "  ...                   ...              ...             ...   \n",
       "  13191                0.77             0.59               4   \n",
       "  13479                0.49             0.77               3   \n",
       "  13812                0.53             0.66               3   \n",
       "  13911                0.70             0.88               3   \n",
       "  13918                0.43             0.66               4   \n",
       "  \n",
       "         average_montly_hours  time_spend_company  Work_accident  left  \\\n",
       "  1281                    270                   5              0     1   \n",
       "  1359                    145                   3              0     1   \n",
       "  1437                    155                   3              0     1   \n",
       "  1515                    257                   5              0     1   \n",
       "  3192                    237                   3              0     0   \n",
       "  ...                     ...                 ...            ...   ...   \n",
       "  13191                   273                   2              0     0   \n",
       "  13479                   211                   3              0     0   \n",
       "  13812                   191                   3              0     0   \n",
       "  13911                   159                   2              0     0   \n",
       "  13918                   135                   2              0     0   \n",
       "  \n",
       "         promotion_last_5years  department  salary  \n",
       "  1281                       0           6       2  \n",
       "  1359                       0           6       2  \n",
       "  1437                       0           6       2  \n",
       "  1515                       0           6       2  \n",
       "  3192                       0           6       2  \n",
       "  ...                      ...         ...     ...  \n",
       "  13191                      0           6       2  \n",
       "  13479                      0           6       2  \n",
       "  13812                      0           6       2  \n",
       "  13911                      0           6       2  \n",
       "  13918                      0           6       2  \n",
       "  \n",
       "  [83 rows x 10 columns],\n",
       "         satisfaction_level  last_evaluation  number_project  \\\n",
       "  61                   0.11             0.93               7   \n",
       "  62                   0.10             0.95               6   \n",
       "  63                   0.36             0.56               2   \n",
       "  64                   0.11             0.94               6   \n",
       "  65                   0.81             0.70               6   \n",
       "  ...                   ...              ...             ...   \n",
       "  14930                0.11             0.89               6   \n",
       "  14931                0.87             0.88               5   \n",
       "  14932                0.39             0.49               2   \n",
       "  14933                0.10             0.94               7   \n",
       "  14938                0.90             0.92               4   \n",
       "  \n",
       "         average_montly_hours  time_spend_company  Work_accident  left  \\\n",
       "  61                      308                   4              0     1   \n",
       "  62                      244                   5              0     1   \n",
       "  63                      132                   3              0     1   \n",
       "  64                      286                   4              0     1   \n",
       "  65                      161                   4              0     1   \n",
       "  ...                     ...                 ...            ...   ...   \n",
       "  14930                   268                   4              0     1   \n",
       "  14931                   240                   5              0     1   \n",
       "  14932                   127                   3              0     1   \n",
       "  14933                   264                   4              0     1   \n",
       "  14938                   271                   5              0     1   \n",
       "  \n",
       "         promotion_last_5years  department  salary  \n",
       "  61                         0           6       1  \n",
       "  62                         0           6       1  \n",
       "  63                         0           6       1  \n",
       "  64                         0           6       1  \n",
       "  65                         0           6       1  \n",
       "  ...                      ...         ...     ...  \n",
       "  14930                      0           6       1  \n",
       "  14931                      0           6       1  \n",
       "  14932                      0           6       1  \n",
       "  14933                      0           6       1  \n",
       "  14938                      0           6       1  \n",
       "  \n",
       "  [535 rows x 10 columns],\n",
       "         satisfaction_level  last_evaluation  number_project  \\\n",
       "  138                  0.74             1.00               4   \n",
       "  139                  0.73             0.87               5   \n",
       "  140                  0.09             0.96               6   \n",
       "  141                  0.45             0.53               2   \n",
       "  142                  0.11             0.80               6   \n",
       "  ...                   ...              ...             ...   \n",
       "  14807                0.86             0.84               5   \n",
       "  14808                0.11             0.90               6   \n",
       "  14809                0.37             0.46               2   \n",
       "  14810                0.11             0.92               7   \n",
       "  14815                0.11             0.79               6   \n",
       "  \n",
       "         average_montly_hours  time_spend_company  Work_accident  left  \\\n",
       "  138                     249                   5              0     1   \n",
       "  139                     257                   5              0     1   \n",
       "  140                     245                   4              0     1   \n",
       "  141                     155                   3              0     1   \n",
       "  142                     256                   4              0     1   \n",
       "  ...                     ...                 ...            ...   ...   \n",
       "  14807                   222                   5              0     1   \n",
       "  14808                   263                   4              0     1   \n",
       "  14809                   157                   3              0     1   \n",
       "  14810                   307                   4              0     1   \n",
       "  14815                   292                   4              0     1   \n",
       "  \n",
       "         promotion_last_5years  department  salary  \n",
       "  138                        0           6       0  \n",
       "  139                        0           6       0  \n",
       "  140                        0           6       0  \n",
       "  141                        0           6       0  \n",
       "  142                        0           6       0  \n",
       "  ...                      ...         ...     ...  \n",
       "  14807                      0           6       0  \n",
       "  14808                      0           6       0  \n",
       "  14809                      0           6       0  \n",
       "  14810                      0           6       0  \n",
       "  14815                      0           6       0  \n",
       "  \n",
       "  [609 rows x 10 columns]]]"
      ]
     },
     "execution_count": 112,
     "metadata": {},
     "output_type": "execute_result"
    }
   ],
   "source": [
    "# Filtrando pelo departamento de TI.\n",
    "dfQuestion9 = df.query('department == 6')\n",
    "\n",
    "data = [[dfQuestion9.query('salary == 2'), \n",
    "        dfQuestion9.query('salary == 1'), \n",
    "        dfQuestion9.query('salary == 0')]]\n",
    "data"
   ]
  },
  {
   "cell_type": "code",
   "execution_count": 113,
   "id": "93f2b318-976a-4a39-9329-585ea63bb558",
   "metadata": {},
   "outputs": [
    {
     "ename": "ValueError",
     "evalue": "setting an array element with a sequence. The requested array has an inhomogeneous shape after 1 dimensions. The detected shape was (3,) + inhomogeneous part.",
     "output_type": "error",
     "traceback": [
      "\u001b[1;31m---------------------------------------------------------------------------\u001b[0m",
      "\u001b[1;31mValueError\u001b[0m                                Traceback (most recent call last)",
      "Cell \u001b[1;32mIn[113], line 3\u001b[0m\n\u001b[0;32m      1\u001b[0m fig \u001b[38;5;241m=\u001b[39m plt\u001b[38;5;241m.\u001b[39mfigure(figsize\u001b[38;5;241m=\u001b[39m(\u001b[38;5;241m10\u001b[39m,\u001b[38;5;241m5\u001b[39m))\n\u001b[0;32m      2\u001b[0m ax \u001b[38;5;241m=\u001b[39m fig\u001b[38;5;241m.\u001b[39madd_subplot(\u001b[38;5;241m111\u001b[39m)\n\u001b[1;32m----> 3\u001b[0m \u001b[43max\u001b[49m\u001b[38;5;241;43m.\u001b[39;49m\u001b[43mboxplot\u001b[49m\u001b[43m(\u001b[49m\u001b[43mdata\u001b[49m\u001b[43m,\u001b[49m\u001b[43m \u001b[49m\u001b[43mnotch\u001b[49m\u001b[43m \u001b[49m\u001b[38;5;241;43m=\u001b[39;49m\u001b[38;5;124;43m'\u001b[39;49m\u001b[38;5;124;43mTrue\u001b[39;49m\u001b[38;5;124;43m'\u001b[39;49m\u001b[43m,\u001b[49m\u001b[43m \u001b[49m\u001b[43mvert\u001b[49m\u001b[43m \u001b[49m\u001b[38;5;241;43m=\u001b[39;49m\u001b[43m \u001b[49m\u001b[38;5;241;43m0\u001b[39;49m\u001b[43m)\u001b[49m\n\u001b[0;32m      4\u001b[0m ax\u001b[38;5;241m.\u001b[39mset_yticklabels([\u001b[38;5;124m'\u001b[39m\u001b[38;5;124mlow\u001b[39m\u001b[38;5;124m'\u001b[39m, \u001b[38;5;124m'\u001b[39m\u001b[38;5;124mmedium\u001b[39m\u001b[38;5;124m'\u001b[39m, \u001b[38;5;124m'\u001b[39m\u001b[38;5;124mhigh\u001b[39m\u001b[38;5;124m'\u001b[39m])\n\u001b[0;32m      6\u001b[0m plt\u001b[38;5;241m.\u001b[39mtitle(\u001b[38;5;124m\"\u001b[39m\u001b[38;5;124mCustomized box plot\u001b[39m\u001b[38;5;124m\"\u001b[39m)\n",
      "File \u001b[1;32mC:\\dev\\VIRTUALENVS\\MODML\\Lib\\site-packages\\matplotlib\\__init__.py:1478\u001b[0m, in \u001b[0;36m_preprocess_data.<locals>.inner\u001b[1;34m(ax, data, *args, **kwargs)\u001b[0m\n\u001b[0;32m   1475\u001b[0m \u001b[38;5;129m@functools\u001b[39m\u001b[38;5;241m.\u001b[39mwraps(func)\n\u001b[0;32m   1476\u001b[0m \u001b[38;5;28;01mdef\u001b[39;00m \u001b[38;5;21minner\u001b[39m(ax, \u001b[38;5;241m*\u001b[39margs, data\u001b[38;5;241m=\u001b[39m\u001b[38;5;28;01mNone\u001b[39;00m, \u001b[38;5;241m*\u001b[39m\u001b[38;5;241m*\u001b[39mkwargs):\n\u001b[0;32m   1477\u001b[0m     \u001b[38;5;28;01mif\u001b[39;00m data \u001b[38;5;129;01mis\u001b[39;00m \u001b[38;5;28;01mNone\u001b[39;00m:\n\u001b[1;32m-> 1478\u001b[0m         \u001b[38;5;28;01mreturn\u001b[39;00m \u001b[43mfunc\u001b[49m\u001b[43m(\u001b[49m\u001b[43max\u001b[49m\u001b[43m,\u001b[49m\u001b[43m \u001b[49m\u001b[38;5;241;43m*\u001b[39;49m\u001b[38;5;28;43mmap\u001b[39;49m\u001b[43m(\u001b[49m\u001b[43msanitize_sequence\u001b[49m\u001b[43m,\u001b[49m\u001b[43m \u001b[49m\u001b[43margs\u001b[49m\u001b[43m)\u001b[49m\u001b[43m,\u001b[49m\u001b[43m \u001b[49m\u001b[38;5;241;43m*\u001b[39;49m\u001b[38;5;241;43m*\u001b[39;49m\u001b[43mkwargs\u001b[49m\u001b[43m)\u001b[49m\n\u001b[0;32m   1480\u001b[0m     bound \u001b[38;5;241m=\u001b[39m new_sig\u001b[38;5;241m.\u001b[39mbind(ax, \u001b[38;5;241m*\u001b[39margs, \u001b[38;5;241m*\u001b[39m\u001b[38;5;241m*\u001b[39mkwargs)\n\u001b[0;32m   1481\u001b[0m     auto_label \u001b[38;5;241m=\u001b[39m (bound\u001b[38;5;241m.\u001b[39marguments\u001b[38;5;241m.\u001b[39mget(label_namer)\n\u001b[0;32m   1482\u001b[0m                   \u001b[38;5;129;01mor\u001b[39;00m bound\u001b[38;5;241m.\u001b[39mkwargs\u001b[38;5;241m.\u001b[39mget(label_namer))\n",
      "File \u001b[1;32mC:\\dev\\VIRTUALENVS\\MODML\\Lib\\site-packages\\matplotlib\\axes\\_axes.py:3947\u001b[0m, in \u001b[0;36mAxes.boxplot\u001b[1;34m(self, x, notch, sym, vert, whis, positions, widths, patch_artist, bootstrap, usermedians, conf_intervals, meanline, showmeans, showcaps, showbox, showfliers, boxprops, labels, flierprops, medianprops, meanprops, capprops, whiskerprops, manage_ticks, autorange, zorder, capwidths)\u001b[0m\n\u001b[0;32m   3944\u001b[0m \u001b[38;5;28;01mif\u001b[39;00m bootstrap \u001b[38;5;129;01mis\u001b[39;00m \u001b[38;5;28;01mNone\u001b[39;00m:\n\u001b[0;32m   3945\u001b[0m     bootstrap \u001b[38;5;241m=\u001b[39m mpl\u001b[38;5;241m.\u001b[39mrcParams[\u001b[38;5;124m'\u001b[39m\u001b[38;5;124mboxplot.bootstrap\u001b[39m\u001b[38;5;124m'\u001b[39m]\n\u001b[1;32m-> 3947\u001b[0m bxpstats \u001b[38;5;241m=\u001b[39m \u001b[43mcbook\u001b[49m\u001b[38;5;241;43m.\u001b[39;49m\u001b[43mboxplot_stats\u001b[49m\u001b[43m(\u001b[49m\u001b[43mx\u001b[49m\u001b[43m,\u001b[49m\u001b[43m \u001b[49m\u001b[43mwhis\u001b[49m\u001b[38;5;241;43m=\u001b[39;49m\u001b[43mwhis\u001b[49m\u001b[43m,\u001b[49m\u001b[43m \u001b[49m\u001b[43mbootstrap\u001b[49m\u001b[38;5;241;43m=\u001b[39;49m\u001b[43mbootstrap\u001b[49m\u001b[43m,\u001b[49m\n\u001b[0;32m   3948\u001b[0m \u001b[43m                               \u001b[49m\u001b[43mlabels\u001b[49m\u001b[38;5;241;43m=\u001b[39;49m\u001b[43mlabels\u001b[49m\u001b[43m,\u001b[49m\u001b[43m \u001b[49m\u001b[43mautorange\u001b[49m\u001b[38;5;241;43m=\u001b[39;49m\u001b[43mautorange\u001b[49m\u001b[43m)\u001b[49m\n\u001b[0;32m   3949\u001b[0m \u001b[38;5;28;01mif\u001b[39;00m notch \u001b[38;5;129;01mis\u001b[39;00m \u001b[38;5;28;01mNone\u001b[39;00m:\n\u001b[0;32m   3950\u001b[0m     notch \u001b[38;5;241m=\u001b[39m mpl\u001b[38;5;241m.\u001b[39mrcParams[\u001b[38;5;124m'\u001b[39m\u001b[38;5;124mboxplot.notch\u001b[39m\u001b[38;5;124m'\u001b[39m]\n",
      "File \u001b[1;32mC:\\dev\\VIRTUALENVS\\MODML\\Lib\\site-packages\\matplotlib\\cbook.py:1202\u001b[0m, in \u001b[0;36mboxplot_stats\u001b[1;34m(X, whis, bootstrap, labels, autorange)\u001b[0m\n\u001b[0;32m   1199\u001b[0m bxpstats \u001b[38;5;241m=\u001b[39m []\n\u001b[0;32m   1201\u001b[0m \u001b[38;5;66;03m# convert X to a list of lists\u001b[39;00m\n\u001b[1;32m-> 1202\u001b[0m X \u001b[38;5;241m=\u001b[39m \u001b[43m_reshape_2D\u001b[49m\u001b[43m(\u001b[49m\u001b[43mX\u001b[49m\u001b[43m,\u001b[49m\u001b[43m \u001b[49m\u001b[38;5;124;43m\"\u001b[39;49m\u001b[38;5;124;43mX\u001b[39;49m\u001b[38;5;124;43m\"\u001b[39;49m\u001b[43m)\u001b[49m\n\u001b[0;32m   1204\u001b[0m ncols \u001b[38;5;241m=\u001b[39m \u001b[38;5;28mlen\u001b[39m(X)\n\u001b[0;32m   1205\u001b[0m \u001b[38;5;28;01mif\u001b[39;00m labels \u001b[38;5;129;01mis\u001b[39;00m \u001b[38;5;28;01mNone\u001b[39;00m:\n",
      "File \u001b[1;32mC:\\dev\\VIRTUALENVS\\MODML\\Lib\\site-packages\\matplotlib\\cbook.py:1409\u001b[0m, in \u001b[0;36m_reshape_2D\u001b[1;34m(X, name)\u001b[0m\n\u001b[0;32m   1407\u001b[0m     \u001b[38;5;28;01melse\u001b[39;00m:\n\u001b[0;32m   1408\u001b[0m         is_1d \u001b[38;5;241m=\u001b[39m \u001b[38;5;28;01mFalse\u001b[39;00m\n\u001b[1;32m-> 1409\u001b[0m xi \u001b[38;5;241m=\u001b[39m np\u001b[38;5;241m.\u001b[39masanyarray(xi)\n\u001b[0;32m   1410\u001b[0m nd \u001b[38;5;241m=\u001b[39m np\u001b[38;5;241m.\u001b[39mndim(xi)\n\u001b[0;32m   1411\u001b[0m \u001b[38;5;28;01mif\u001b[39;00m nd \u001b[38;5;241m>\u001b[39m \u001b[38;5;241m1\u001b[39m:\n",
      "\u001b[1;31mValueError\u001b[0m: setting an array element with a sequence. The requested array has an inhomogeneous shape after 1 dimensions. The detected shape was (3,) + inhomogeneous part."
     ]
    },
    {
     "data": {
      "image/png": "[encoded data removed]",
      "text/plain": [
       "<Figure size 1000x500 with 1 Axes>"
      ]
     },
     "metadata": {},
     "output_type": "display_data"
    }
   ],
   "source": [
    "\n",
    "fig = plt.figure(figsize=(10,5))\n",
    "ax = fig.add_subplot(111)\n",
    "ax.boxplot(data, notch ='True', vert = 0)\n",
    "ax.set_yticklabels(['low', 'medium', 'high'])\n",
    "\n",
    "plt.title(\"Customized box plot\")\n",
    "plt.xlabel('average_montly_hours')\n",
    "plt.ylabel('Salary')\n",
    "plt.show() "
   ]
  },
  {
   "cell_type": "markdown",
   "id": "404c60cf-1019-4e34-9d6a-5de9f7d6a523",
   "metadata": {},
   "source": [
    "***"
   ]
  },
  {
   "cell_type": "markdown",
   "id": "17d53f3f-be0b-4c24-984c-0d9946a5acbb",
   "metadata": {},
   "source": [
    "10. Após a aplicação do algoritmo RandomForestClassifier, qual feature demonstra a maior importância no contexto dos dados analisados?"
   ]
  },
  {
   "cell_type": "code",
   "execution_count": 78,
   "id": "d7387aa1-994b-4b91-a90d-e3fdcc589c0c",
   "metadata": {},
   "outputs": [
    {
     "data": {
      "text/html": [
       "<div>\n",
       "<style scoped>\n",
       "    .dataframe tbody tr th:only-of-type {\n",
       "        vertical-align: middle;\n",
       "    }\n",
       "\n",
       "    .dataframe tbody tr th {\n",
       "        vertical-align: top;\n",
       "    }\n",
       "\n",
       "    .dataframe thead th {\n",
       "        text-align: right;\n",
       "    }\n",
       "</style>\n",
       "<table border=\"1\" class=\"dataframe\">\n",
       "  <thead>\n",
       "    <tr style=\"text-align: right;\">\n",
       "      <th></th>\n",
       "      <th>Importancia</th>\n",
       "    </tr>\n",
       "  </thead>\n",
       "  <tbody>\n",
       "    <tr>\n",
       "      <th>satisfaction_level</th>\n",
       "      <td>0.290331</td>\n",
       "    </tr>\n",
       "    <tr>\n",
       "      <th>time_spend_company</th>\n",
       "      <td>0.251085</td>\n",
       "    </tr>\n",
       "    <tr>\n",
       "      <th>number_project</th>\n",
       "      <td>0.161145</td>\n",
       "    </tr>\n",
       "    <tr>\n",
       "      <th>average_montly_hours</th>\n",
       "      <td>0.149383</td>\n",
       "    </tr>\n",
       "    <tr>\n",
       "      <th>last_evaluation</th>\n",
       "      <td>0.116249</td>\n",
       "    </tr>\n",
       "    <tr>\n",
       "      <th>department</th>\n",
       "      <td>0.015429</td>\n",
       "    </tr>\n",
       "    <tr>\n",
       "      <th>salary</th>\n",
       "      <td>0.009675</td>\n",
       "    </tr>\n",
       "    <tr>\n",
       "      <th>Work_accident</th>\n",
       "      <td>0.005782</td>\n",
       "    </tr>\n",
       "    <tr>\n",
       "      <th>promotion_last_5years</th>\n",
       "      <td>0.000922</td>\n",
       "    </tr>\n",
       "  </tbody>\n",
       "</table>\n",
       "</div>"
      ],
      "text/plain": [
       "                       Importancia\n",
       "satisfaction_level        0.290331\n",
       "time_spend_company        0.251085\n",
       "number_project            0.161145\n",
       "average_montly_hours      0.149383\n",
       "last_evaluation           0.116249\n",
       "department                0.015429\n",
       "salary                    0.009675\n",
       "Work_accident             0.005782\n",
       "promotion_last_5years     0.000922"
      ]
     },
     "execution_count": 78,
     "metadata": {},
     "output_type": "execute_result"
    }
   ],
   "source": [
    "pd.DataFrame(modelo.feature_importances_, columns=['Importancia'], \n",
    "             index = ['satisfaction_level', 'last_evaluation', 'number_project', 'average_montly_hours', 'time_spend_company', \n",
    "                      'Work_accident', 'promotion_last_5years', 'department',\n",
    "                      'salary']).sort_values('Importancia', ascending=False)"
   ]
  },
  {
   "cell_type": "markdown",
   "id": "dbe73824-da37-4654-8c46-725dd34b0e58",
   "metadata": {},
   "source": [
    "Resposta: satisfaction_level"
   ]
  },
  {
   "cell_type": "markdown",
   "id": "787e99af-7af3-4122-9676-ce44ba557662",
   "metadata": {},
   "source": [
    "***"
   ]
  },
  {
   "cell_type": "markdown",
   "id": "98e5d47e-89a4-4908-bc39-72edaca4146b",
   "metadata": {},
   "source": [
    "11. Gere a pontuação (score) do modelo criado e selecione a opção que melhor reflete a aproximação desse score."
   ]
  },
  {
   "cell_type": "code",
   "execution_count": 79,
   "id": "e18391b3-e465-46bc-b957-86c403b0bd0e",
   "metadata": {},
   "outputs": [
    {
     "name": "stdout",
     "output_type": "stream",
     "text": [
      "Precisão(%):  0.9881796690307328\n"
     ]
    }
   ],
   "source": [
    "print('Precisão(%): ', acuraria)"
   ]
  },
  {
   "cell_type": "markdown",
   "id": "fd4b38d6-24f3-4743-b5f0-d1e8f45cf6a4",
   "metadata": {},
   "source": [
    "Resposta: Acima de 98%\n",
    "***"
   ]
  },
  {
   "cell_type": "markdown",
   "id": "a1c76372-0597-43cf-be71-dc12e7318036",
   "metadata": {},
   "source": [
    "12. Elabore a matriz de confusão para o modelo desenvolvido e, com base na análise dessa matriz e do relatório de classificação (classification_report), responda às demais questões: \r\n",
    "\r\n",
    "Qual foi a precisão associada foi classe não permaneceu?"
   ]
  },
  {
   "cell_type": "code",
   "execution_count": 82,
   "id": "187a8296-f9ce-49ea-9ca8-040b2443ee52",
   "metadata": {},
   "outputs": [
    {
     "data": {
      "text/plain": [
       "array([[1086,   10],\n",
       "       [  15, 1004]], dtype=int64)"
      ]
     },
     "execution_count": 82,
     "metadata": {},
     "output_type": "execute_result"
    }
   ],
   "source": [
    "cm"
   ]
  },
  {
   "cell_type": "code",
   "execution_count": 88,
   "id": "9affbb06-269f-4816-b4e9-c8d452bc67f5",
   "metadata": {},
   "outputs": [
    {
     "name": "stdout",
     "output_type": "stream",
     "text": [
      "              precision    recall  f1-score   support\n",
      "\n",
      "           0       0.99      0.99      0.99      1096\n",
      "           1       0.99      0.99      0.99      1019\n",
      "\n",
      "    accuracy                           0.99      2115\n",
      "   macro avg       0.99      0.99      0.99      2115\n",
      "weighted avg       0.99      0.99      0.99      2115\n",
      "\n"
     ]
    }
   ],
   "source": [
    "# Gerar o relatóri de classificação\n",
    "report = classification_report(y_test, y_pred)\n",
    "# Imprimir relatório de classificação\n",
    "print(report)"
   ]
  },
  {
   "cell_type": "markdown",
   "id": "7436a5d1-b6f5-4049-b1c5-c2fe8cc68554",
   "metadata": {},
   "source": [
    "***"
   ]
  },
  {
   "cell_type": "markdown",
   "id": "a65aaba7-4d58-4e49-a720-e1bbced19062",
   "metadata": {},
   "source": [
    "13. Qual é a quantidade de registros que o modelo acertou para a classe que permaneceu na empresa?"
   ]
  },
  {
   "cell_type": "code",
   "execution_count": 84,
   "id": "efc21bd6-91d3-4080-b164-641196a90ee8",
   "metadata": {},
   "outputs": [
    {
     "data": {
      "text/plain": [
       "array([[1086,   10],\n",
       "       [  15, 1004]], dtype=int64)"
      ]
     },
     "execution_count": 84,
     "metadata": {},
     "output_type": "execute_result"
    }
   ],
   "source": [
    "# Exibindo dados da matriz de confusão\n",
    "cm"
   ]
  },
  {
   "cell_type": "markdown",
   "id": "3d745796-2f9c-45ff-82aa-630f640c3f12",
   "metadata": {},
   "source": [
    "Resposta: 1086\n",
    "***"
   ]
  },
  {
   "cell_type": "markdown",
   "id": "2a925165-9bd1-495e-b92d-ea6a122b16c1",
   "metadata": {},
   "source": [
    "14. Qual foi o recall que o modelo obteve para a classe permaneceu?"
   ]
  },
  {
   "cell_type": "code",
   "execution_count": 89,
   "id": "08785220-fa9c-4df5-9c19-d2d7aacec587",
   "metadata": {},
   "outputs": [
    {
     "name": "stdout",
     "output_type": "stream",
     "text": [
      "              precision    recall  f1-score   support\n",
      "\n",
      "           0       0.99      0.99      0.99      1096\n",
      "           1       0.99      0.99      0.99      1019\n",
      "\n",
      "    accuracy                           0.99      2115\n",
      "   macro avg       0.99      0.99      0.99      2115\n",
      "weighted avg       0.99      0.99      0.99      2115\n",
      "\n"
     ]
    }
   ],
   "source": [
    "# Imprimir relatório de classificação\n",
    "print(report)"
   ]
  },
  {
   "cell_type": "markdown",
   "id": "a94b2761-f0d0-4145-9557-60b58eddf685",
   "metadata": {},
   "source": [
    "Resposta: 0.99"
   ]
  },
  {
   "cell_type": "markdown",
   "id": "02b59c3e-4ce3-44be-9d44-b05a88777459",
   "metadata": {},
   "source": [
    "***"
   ]
  },
  {
   "cell_type": "markdown",
   "id": "c89edaf6-86d9-4d67-82ab-e00cac53ef91",
   "metadata": {},
   "source": [
    "15. Qual classe possui maior valor de suporte?"
   ]
  },
  {
   "cell_type": "code",
   "execution_count": 86,
   "id": "5a77c4a1-b2f0-4aba-b666-dfe427422313",
   "metadata": {},
   "outputs": [
    {
     "name": "stdout",
     "output_type": "stream",
     "text": [
      "              precision    recall  f1-score   support\n",
      "\n",
      "           0       0.99      0.99      0.99      1096\n",
      "           1       0.99      0.99      0.99      1019\n",
      "\n",
      "    accuracy                           0.99      2115\n",
      "   macro avg       0.99      0.99      0.99      2115\n",
      "weighted avg       0.99      0.99      0.99      2115\n",
      "\n"
     ]
    }
   ],
   "source": [
    "# Imprimir relatório de classificação\n",
    "print(report)"
   ]
  },
  {
   "cell_type": "markdown",
   "id": "b11ea449-7888-495a-92c8-76d4522297d9",
   "metadata": {},
   "source": [
    "Resposta: aqui que permaneceu (0) = 1096"
   ]
  },
  {
   "cell_type": "code",
   "execution_count": null,
   "id": "589c029e-3008-4241-ad28-78e39539e5f7",
   "metadata": {},
   "outputs": [],
   "source": []
  }
 ],
 "metadata": {
  "kernelspec": {
   "display_name": "MODML",
   "language": "python",
   "name": "modml"
  },
  "language_info": {
   "codemirror_mode": {
    "name": "ipython",
    "version": 3
   },
   "file_extension": ".py",
   "mimetype": "text/x-python",
   "name": "python",
   "nbconvert_exporter": "python",
   "pygments_lexer": "ipython3",
   "version": "3.11.3"
  }
 },
 "nbformat": 4,
 "nbformat_minor": 5
}
